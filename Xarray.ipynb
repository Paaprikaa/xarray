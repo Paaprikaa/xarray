{
 "cells": [
  {
   "cell_type": "code",
   "execution_count": 208,
   "id": "5d46b4b4",
   "metadata": {
    "slideshow": {
     "slide_type": "skip"
    }
   },
   "outputs": [],
   "source": [
    "import xarray as xr\n",
    "import numpy as np\n",
    "import matplotlib.pyplot as plt\n",
    "from IPython.display import HTML, display"
   ]
  },
  {
   "cell_type": "markdown",
   "id": "e5062ef2",
   "metadata": {
    "slideshow": {
     "slide_type": "slide"
    }
   },
   "source": [
    "# Xarray\n",
    "\n",
    "Xarray, datos etiquetados y multidimensionalidad.\n",
    "- Domain agnostic\n",
    "- Dimensions\n",
    "- Metadata\n",
    "- Open source\n",
    "\n",
    "<img src=\"images/xarray.png\" width=\"1024\" height=\"512\">\n"
   ]
  },
  {
   "cell_type": "markdown",
   "id": "6d4f555b",
   "metadata": {
    "slideshow": {
     "slide_type": "slide"
    }
   },
   "source": [
    "## Data structures\n",
    "\n",
    "<img src=\"images/data_structures.png\"  width=\"1280\" height=\"300\">\n",
    "\n",
    "**Data array** guarda variables individuales multi-dimensionales, sus coordenadas y metadata.\n",
    "\n",
    "**Data set** guarda múltiples variables (que potencialmente comparten las mismas coordenadas).\n"
   ]
  },
  {
   "cell_type": "markdown",
   "id": "27f99c7b",
   "metadata": {
    "slideshow": {
     "slide_type": "slide"
    }
   },
   "source": [
    "## DataArray 📗\n",
    "\n",
    "array de datos multidimensional con: \n",
    "- **Nombre** del array\n",
    "- **Dimensiones** label que le doy a mis DataArrays\n",
    "- **Coordenadas** valores asociados a mis dimensiones\n",
    "- **Atributos** diccionario donde guardar metadata\n",
    "\n",
    "<img src=\"images/tag.png\">"
   ]
  },
  {
   "cell_type": "markdown",
   "id": "7c7c4efd",
   "metadata": {
    "slideshow": {
     "slide_type": "slide"
    }
   },
   "source": [
    "##### Ejemplo"
   ]
  },
  {
   "cell_type": "code",
   "execution_count": 230,
   "id": "f3108e72",
   "metadata": {
    "slideshow": {
     "slide_type": "-"
    }
   },
   "outputs": [],
   "source": [
    "da = xr.DataArray(\n",
    "    data = np.array([[[\"hola\"],[\"adios\"]],[[\"perro\"],[\"gato\"]],[[\"día\"],[\"noche\"]]]), \n",
    "    dims = [\"mi_lista\",\"pares\",\"palabra\"],\n",
    "    coords = {\n",
    "        \"mi_lista\": [\"saludos\", \"animales\", \"cielo\"],\n",
    "        \"pares\": list(range(1, 3)),\n",
    "        \"palabra\": [0],\n",
    "    },\n",
    "    name = \"ejemplo\",\n",
    "    attrs={\"fuente\" : \"de los deseos\"}\n",
    ")"
   ]
  },
  {
   "cell_type": "markdown",
   "id": "88f4a939",
   "metadata": {},
   "source": [
    "|\"mi_lista\" | \"saludos\"         |  \"animales\"          |  \"cielo\"            |\n",
    "|--------|----------------------|----------------------|---------------------|\n",
    "|        | [[\"hola\"],[\"adios\"]] | [[\"perro\"],[\"gato\"]] | [[\"día\"],[\"noche\"]] |\n",
    "\n",
    "|\"pares\" | 1                    |  2                   |\n",
    "|--------|----------------------|----------------------|\n",
    "|        | [\"hola\"]             | [\"adios\"]            |\n",
    "\n",
    "\n",
    "|\"palabra\" | 0                    |\n",
    "|--------|----------------------|\n",
    "|        | \"hola\"             |"
   ]
  },
  {
   "cell_type": "markdown",
   "id": "aebb7998",
   "metadata": {
    "slideshow": {
     "slide_type": "slide"
    }
   },
   "source": [
    "example\n",
    "\n",
    "<img src=\"images/example_DataArray.png\" width=\"1486\">"
   ]
  },
  {
   "cell_type": "code",
   "execution_count": 211,
   "id": "0595e74b",
   "metadata": {
    "slideshow": {
     "slide_type": "skip"
    }
   },
   "outputs": [],
   "source": [
    "example2_data = np.array([[0.63865377,0.41891651,0.26028003],[0.50072503,0.8474092,0.24947729]])"
   ]
  },
  {
   "cell_type": "markdown",
   "id": "fe10871a",
   "metadata": {
    "slideshow": {
     "slide_type": "slide"
    }
   },
   "source": [
    "##### Otro ejemplo"
   ]
  },
  {
   "cell_type": "code",
   "execution_count": 213,
   "id": "582af595",
   "metadata": {},
   "outputs": [],
   "source": [
    "example2 = xr.DataArray(\n",
    "    data = example2_data, \n",
    "    dims = [\"x\",\"y\"],\n",
    "    coords = {\n",
    "        \"x\": [-10,10],\n",
    "        \"y\": [-20,0,20],\n",
    "    },\n",
    "    name = \"ejemplo 2\",\n",
    ")"
   ]
  },
  {
   "cell_type": "markdown",
   "id": "e07601bd",
   "metadata": {},
   "source": [
    "| x\\y  | -20 | 0 | 20 |\n",
    "|-----|-------------|-----|-----|\n",
    "| -10  | 0.63865377 | 0.41891651 | 0.26028003 |\n",
    "|  10  | 0.50072503 | 0.8474092  | 0.24947729 |"
   ]
  },
  {
   "cell_type": "markdown",
   "id": "f99fe84f",
   "metadata": {
    "slideshow": {
     "slide_type": "slide"
    }
   },
   "source": [
    "## Dataset 📚\n",
    "\n",
    "Especie de diccionario que contiene labeled DataArrays y metadata.      \n",
    "(Esos DataArrays están _alineados_ (mismo tamaño)).      \n",
    "Diseñado para representar la data del modelo netCDF.\n",
    "- **Dimensiones** diccionario con [nombre de dimension]:[tamaño fijo]\n",
    "- **Coordenadas** valores de esas dimensiones (la intención es ponerle label a las _data_vars_)\n",
    "- **Data variables** diccionario de variables (_data_vars_)\n",
    "- **Atributos** metadata extra\n",
    "\n",
    "### Convención\n",
    "*Coordenadas* ➡️ cantidades constantes/fijas/independientes (no cambia)          \n",
    "*Data variables* ➡️ cantidades variantes/dependientes (¡está siendo medido!) ➡️ lo quiero analizar 🔍"
   ]
  },
  {
   "cell_type": "markdown",
   "id": "1fcec8cb",
   "metadata": {
    "slideshow": {
     "slide_type": "slide"
    }
   },
   "source": [
    "##### Ejemplo"
   ]
  },
  {
   "cell_type": "code",
   "execution_count": 214,
   "id": "fe5dd92c",
   "metadata": {
    "slideshow": {
     "slide_type": "-"
    }
   },
   "outputs": [],
   "source": [
    "ds = xr.Dataset(\n",
    "    data_vars={\n",
    "        \"temperatura\": ([\"lat\", \"lon\"], [[15, 16], [17, 18]]), # DataArrays donde dim=[\"lat\", \"lon\"]\n",
    "        \"humedad\":     ([\"lat\", \"lon\"], [[60, 65], [70, 75]])\n",
    "    },\n",
    "    coords={\n",
    "        \"lat\": [10, 20],\n",
    "        \"lon\": [100, 110]\n",
    "        # podría tener por ejemplo \"tiempo\"\n",
    "    }\n",
    ")"
   ]
  },
  {
   "cell_type": "code",
   "execution_count": 215,
   "id": "386f81e8",
   "metadata": {
    "slideshow": {
     "slide_type": "skip"
    }
   },
   "outputs": [
    {
     "data": {
      "text/plain": [
       "<xarray.core.options.set_options at 0x7f4cc4b62970>"
      ]
     },
     "execution_count": 215,
     "metadata": {},
     "output_type": "execute_result"
    }
   ],
   "source": [
    "# ahora solo vista text para ahorrar espacio\n",
    "xr.set_options(display_style=\"text\")"
   ]
  },
  {
   "cell_type": "markdown",
   "id": "18c82dc9",
   "metadata": {
    "slideshow": {
     "slide_type": "slide"
    }
   },
   "source": [
    "## Indexing con Xarray\n",
    "\n",
    "\n",
    "Una vez tengamos nuestro data array queremos \"aprovechar\" nuestras coordenas, y por algun motivo no perder la posibilidad de ser infelices:         \n",
    "Para ello podemos aprovecharlos y seleccionar a traves indices (porque wtf?) o a traves de nombres dimension:"
   ]
  },
  {
   "cell_type": "code",
   "execution_count": 216,
   "id": "72dd9063",
   "metadata": {
    "slideshow": {
     "slide_type": "-"
    }
   },
   "outputs": [],
   "source": [
    "example = xr.DataArray(\n",
    "    np.arange(0, 60).reshape(3, 4, 5),\n",
    "    coords={\n",
    "        \"dim1\": [\"A\", \"B\", \"C\"],\n",
    "        \"dim2\": [\"a\", \"b\", \"c\", \"d\"],\n",
    "        \"dim3\": np.arange(0, 5)\n",
    "    },\n",
    "    dims=(\"dim1\", \"dim2\", \"dim3\")\n",
    ")"
   ]
  },
  {
   "cell_type": "code",
   "execution_count": 217,
   "id": "2103d8de",
   "metadata": {
    "slideshow": {
     "slide_type": "slide"
    }
   },
   "outputs": [
    {
     "data": {
      "text/html": [
       "<pre>&lt;xarray.DataArray ()&gt;\n",
       "array(47)\n",
       "Coordinates:\n",
       "    dim1     &lt;U1 &#x27;C&#x27;\n",
       "    dim2     &lt;U1 &#x27;b&#x27;\n",
       "    dim3     int64 2</pre>"
      ],
      "text/plain": [
       "<xarray.DataArray ()>\n",
       "array(47)\n",
       "Coordinates:\n",
       "    dim1     <U1 'C'\n",
       "    dim2     <U1 'b'\n",
       "    dim3     int64 2"
      ]
     },
     "execution_count": 217,
     "metadata": {},
     "output_type": "execute_result"
    }
   ],
   "source": [
    "example[2,1,2]"
   ]
  },
  {
   "cell_type": "code",
   "execution_count": 218,
   "id": "02641c5d",
   "metadata": {},
   "outputs": [
    {
     "data": {
      "text/html": [
       "<pre>&lt;xarray.DataArray ()&gt;\n",
       "array(47)\n",
       "Coordinates:\n",
       "    dim1     &lt;U1 &#x27;C&#x27;\n",
       "    dim2     &lt;U1 &#x27;b&#x27;\n",
       "    dim3     int64 2</pre>"
      ],
      "text/plain": [
       "<xarray.DataArray ()>\n",
       "array(47)\n",
       "Coordinates:\n",
       "    dim1     <U1 'C'\n",
       "    dim2     <U1 'b'\n",
       "    dim3     int64 2"
      ]
     },
     "execution_count": 218,
     "metadata": {},
     "output_type": "execute_result"
    }
   ],
   "source": [
    "example.loc[\"C\",\"b\",2]"
   ]
  },
  {
   "cell_type": "code",
   "execution_count": 219,
   "id": "ee8e48b9",
   "metadata": {
    "slideshow": {
     "slide_type": "slide"
    }
   },
   "outputs": [
    {
     "data": {
      "text/html": [
       "<pre>&lt;xarray.DataArray (dim1: 3, dim2: 4, dim3: 5)&gt;\n",
       "array([[[ 0,  1,  2,  3,  4],\n",
       "        [ 5,  6,  7,  8,  9],\n",
       "        [10, 11, 12, 13, 14],\n",
       "        [15, 16, 17, 18, 19]],\n",
       "\n",
       "       [[20, 21, 22, 23, 24],\n",
       "        [25, 26, 27, 28, 29],\n",
       "        [30, 31, 32, 33, 34],\n",
       "        [35, 36, 37, 38, 39]],\n",
       "\n",
       "       [[40, 41, 42, 43, 44],\n",
       "        [45, 46, 47, 48, 49],\n",
       "        [50, 51, 52, 53, 54],\n",
       "        [55, 56, 57, 58, 59]]])\n",
       "Coordinates:\n",
       "  * dim1     (dim1) &lt;U1 &#x27;A&#x27; &#x27;B&#x27; &#x27;C&#x27;\n",
       "  * dim2     (dim2) &lt;U1 &#x27;a&#x27; &#x27;b&#x27; &#x27;c&#x27; &#x27;d&#x27;\n",
       "  * dim3     (dim3) int64 0 1 2 3 4</pre>"
      ],
      "text/plain": [
       "<xarray.DataArray (dim1: 3, dim2: 4, dim3: 5)>\n",
       "array([[[ 0,  1,  2,  3,  4],\n",
       "        [ 5,  6,  7,  8,  9],\n",
       "        [10, 11, 12, 13, 14],\n",
       "        [15, 16, 17, 18, 19]],\n",
       "\n",
       "       [[20, 21, 22, 23, 24],\n",
       "        [25, 26, 27, 28, 29],\n",
       "        [30, 31, 32, 33, 34],\n",
       "        [35, 36, 37, 38, 39]],\n",
       "\n",
       "       [[40, 41, 42, 43, 44],\n",
       "        [45, 46, 47, 48, 49],\n",
       "        [50, 51, 52, 53, 54],\n",
       "        [55, 56, 57, 58, 59]]])\n",
       "Coordinates:\n",
       "  * dim1     (dim1) <U1 'A' 'B' 'C'\n",
       "  * dim2     (dim2) <U1 'a' 'b' 'c' 'd'\n",
       "  * dim3     (dim3) int64 0 1 2 3 4"
      ]
     },
     "execution_count": 219,
     "metadata": {},
     "output_type": "execute_result"
    }
   ],
   "source": [
    "example.sel(dim1 = slice(\"A\",\"C\"))"
   ]
  },
  {
   "cell_type": "code",
   "execution_count": 220,
   "id": "29394744",
   "metadata": {},
   "outputs": [
    {
     "data": {
      "text/html": [
       "<pre>&lt;xarray.DataArray (dim2: 4, dim3: 5)&gt;\n",
       "array([[ 0,  1,  2,  3,  4],\n",
       "       [ 5,  6,  7,  8,  9],\n",
       "       [10, 11, 12, 13, 14],\n",
       "       [15, 16, 17, 18, 19]])\n",
       "Coordinates:\n",
       "    dim1     &lt;U1 &#x27;A&#x27;\n",
       "  * dim2     (dim2) &lt;U1 &#x27;a&#x27; &#x27;b&#x27; &#x27;c&#x27; &#x27;d&#x27;\n",
       "  * dim3     (dim3) int64 0 1 2 3 4</pre>"
      ],
      "text/plain": [
       "<xarray.DataArray (dim2: 4, dim3: 5)>\n",
       "array([[ 0,  1,  2,  3,  4],\n",
       "       [ 5,  6,  7,  8,  9],\n",
       "       [10, 11, 12, 13, 14],\n",
       "       [15, 16, 17, 18, 19]])\n",
       "Coordinates:\n",
       "    dim1     <U1 'A'\n",
       "  * dim2     (dim2) <U1 'a' 'b' 'c' 'd'\n",
       "  * dim3     (dim3) int64 0 1 2 3 4"
      ]
     },
     "execution_count": 220,
     "metadata": {},
     "output_type": "execute_result"
    }
   ],
   "source": [
    "example.isel(dim1 = 0)"
   ]
  },
  {
   "cell_type": "code",
   "execution_count": 221,
   "id": "a7bb1753",
   "metadata": {
    "slideshow": {
     "slide_type": "slide"
    }
   },
   "outputs": [
    {
     "data": {
      "text/html": [
       "<pre>&lt;xarray.DataArray (dim1: 3, dim2: 4, dim3: 3)&gt;\n",
       "array([[[ 0,  1,  4],\n",
       "        [ 5,  6,  9],\n",
       "        [10, 11, 14],\n",
       "        [15, 16, 19]],\n",
       "\n",
       "       [[20, 21, 24],\n",
       "        [25, 26, 29],\n",
       "        [30, 31, 34],\n",
       "        [35, 36, 39]],\n",
       "\n",
       "       [[40, 41, 44],\n",
       "        [45, 46, 49],\n",
       "        [50, 51, 54],\n",
       "        [55, 56, 59]]])\n",
       "Coordinates:\n",
       "  * dim1     (dim1) &lt;U1 &#x27;A&#x27; &#x27;B&#x27; &#x27;C&#x27;\n",
       "  * dim2     (dim2) &lt;U1 &#x27;a&#x27; &#x27;b&#x27; &#x27;c&#x27; &#x27;d&#x27;\n",
       "  * dim3     (dim3) int64 0 1 4</pre>"
      ],
      "text/plain": [
       "<xarray.DataArray (dim1: 3, dim2: 4, dim3: 3)>\n",
       "array([[[ 0,  1,  4],\n",
       "        [ 5,  6,  9],\n",
       "        [10, 11, 14],\n",
       "        [15, 16, 19]],\n",
       "\n",
       "       [[20, 21, 24],\n",
       "        [25, 26, 29],\n",
       "        [30, 31, 34],\n",
       "        [35, 36, 39]],\n",
       "\n",
       "       [[40, 41, 44],\n",
       "        [45, 46, 49],\n",
       "        [50, 51, 54],\n",
       "        [55, 56, 59]]])\n",
       "Coordinates:\n",
       "  * dim1     (dim1) <U1 'A' 'B' 'C'\n",
       "  * dim2     (dim2) <U1 'a' 'b' 'c' 'd'\n",
       "  * dim3     (dim3) int64 0 1 4"
      ]
     },
     "execution_count": 221,
     "metadata": {},
     "output_type": "execute_result"
    }
   ],
   "source": [
    "example.drop_sel(dim3 = [2,3])"
   ]
  },
  {
   "cell_type": "code",
   "execution_count": 222,
   "id": "980cd2b6",
   "metadata": {},
   "outputs": [
    {
     "data": {
      "text/html": [
       "<pre>&lt;xarray.DataArray (dim1: 3, dim2: 4, dim3: 3)&gt;\n",
       "array([[[ 0,  1,  4],\n",
       "        [ 5,  6,  9],\n",
       "        [10, 11, 14],\n",
       "        [15, 16, 19]],\n",
       "\n",
       "       [[20, 21, 24],\n",
       "        [25, 26, 29],\n",
       "        [30, 31, 34],\n",
       "        [35, 36, 39]],\n",
       "\n",
       "       [[40, 41, 44],\n",
       "        [45, 46, 49],\n",
       "        [50, 51, 54],\n",
       "        [55, 56, 59]]])\n",
       "Coordinates:\n",
       "  * dim1     (dim1) &lt;U1 &#x27;A&#x27; &#x27;B&#x27; &#x27;C&#x27;\n",
       "  * dim2     (dim2) &lt;U1 &#x27;a&#x27; &#x27;b&#x27; &#x27;c&#x27; &#x27;d&#x27;\n",
       "  * dim3     (dim3) int64 0 1 4</pre>"
      ],
      "text/plain": [
       "<xarray.DataArray (dim1: 3, dim2: 4, dim3: 3)>\n",
       "array([[[ 0,  1,  4],\n",
       "        [ 5,  6,  9],\n",
       "        [10, 11, 14],\n",
       "        [15, 16, 19]],\n",
       "\n",
       "       [[20, 21, 24],\n",
       "        [25, 26, 29],\n",
       "        [30, 31, 34],\n",
       "        [35, 36, 39]],\n",
       "\n",
       "       [[40, 41, 44],\n",
       "        [45, 46, 49],\n",
       "        [50, 51, 54],\n",
       "        [55, 56, 59]]])\n",
       "Coordinates:\n",
       "  * dim1     (dim1) <U1 'A' 'B' 'C'\n",
       "  * dim2     (dim2) <U1 'a' 'b' 'c' 'd'\n",
       "  * dim3     (dim3) int64 0 1 4"
      ]
     },
     "execution_count": 222,
     "metadata": {},
     "output_type": "execute_result"
    }
   ],
   "source": [
    "example.drop_sel(dim3 = [2,3])"
   ]
  },
  {
   "cell_type": "code",
   "execution_count": 223,
   "id": "fd033cba",
   "metadata": {
    "slideshow": {
     "slide_type": "slide"
    }
   },
   "outputs": [
    {
     "data": {
      "text/html": [
       "<pre>&lt;xarray.DataArray (dim1: 3, dim2: 4, dim3: 5)&gt;\n",
       "array([[[ 0,  1,  2,  3,  4],\n",
       "        [ 5,  6,  7,  8,  9],\n",
       "        [10, 11, 12, 13, 14],\n",
       "        [15, 16, 17, 18, 19]],\n",
       "\n",
       "       [[20, 21, 22, 23, 24],\n",
       "        [25, 26, 27, 28, 29],\n",
       "        [30, 31, 32, 33, 34],\n",
       "        [35, 36, 37, 38, 39]],\n",
       "\n",
       "       [[40, 41, 42, 43, 44],\n",
       "        [45, 46, 47, 48, 49],\n",
       "        [50, 51, 52, 53, 54],\n",
       "        [55, 56, 57, 58, 59]]])\n",
       "Coordinates:\n",
       "  * dim1     (dim1) float64 97.8 98.2 344.2\n",
       "  * dim2     (dim2) &lt;U1 &#x27;a&#x27; &#x27;b&#x27; &#x27;c&#x27; &#x27;d&#x27;\n",
       "  * dim3     (dim3) int64 0 1 2 3 4</pre>"
      ],
      "text/plain": [
       "<xarray.DataArray (dim1: 3, dim2: 4, dim3: 5)>\n",
       "array([[[ 0,  1,  2,  3,  4],\n",
       "        [ 5,  6,  7,  8,  9],\n",
       "        [10, 11, 12, 13, 14],\n",
       "        [15, 16, 17, 18, 19]],\n",
       "\n",
       "       [[20, 21, 22, 23, 24],\n",
       "        [25, 26, 27, 28, 29],\n",
       "        [30, 31, 32, 33, 34],\n",
       "        [35, 36, 37, 38, 39]],\n",
       "\n",
       "       [[40, 41, 42, 43, 44],\n",
       "        [45, 46, 47, 48, 49],\n",
       "        [50, 51, 52, 53, 54],\n",
       "        [55, 56, 57, 58, 59]]])\n",
       "Coordinates:\n",
       "  * dim1     (dim1) float64 97.8 98.2 344.2\n",
       "  * dim2     (dim2) <U1 'a' 'b' 'c' 'd'\n",
       "  * dim3     (dim3) int64 0 1 2 3 4"
      ]
     },
     "execution_count": 223,
     "metadata": {},
     "output_type": "execute_result"
    }
   ],
   "source": [
    "example2 = example.assign_coords(dim1 = [97.8,98.2,344.23123])\n",
    "example2"
   ]
  },
  {
   "cell_type": "code",
   "execution_count": 224,
   "id": "5f9d1b47",
   "metadata": {},
   "outputs": [
    {
     "ename": "KeyError",
     "evalue": "\"not all values found in index 'dim1'. Try setting the `method` keyword argument (example: method='nearest').\"",
     "output_type": "error",
     "traceback": [
      "\u001b[0;31m---------------------------------------------------------------------------\u001b[0m",
      "\u001b[0;31mKeyError\u001b[0m                                  Traceback (most recent call last)",
      "File \u001b[0;32m~/.local/lib/python3.8/site-packages/pandas/core/indexes/base.py:3653\u001b[0m, in \u001b[0;36mIndex.get_loc\u001b[0;34m(self, key)\u001b[0m\n\u001b[1;32m   3652\u001b[0m \u001b[38;5;28;01mtry\u001b[39;00m:\n\u001b[0;32m-> 3653\u001b[0m     \u001b[38;5;28;01mreturn\u001b[39;00m \u001b[38;5;28;43mself\u001b[39;49m\u001b[38;5;241;43m.\u001b[39;49m\u001b[43m_engine\u001b[49m\u001b[38;5;241;43m.\u001b[39;49m\u001b[43mget_loc\u001b[49m\u001b[43m(\u001b[49m\u001b[43mcasted_key\u001b[49m\u001b[43m)\u001b[49m\n\u001b[1;32m   3654\u001b[0m \u001b[38;5;28;01mexcept\u001b[39;00m \u001b[38;5;167;01mKeyError\u001b[39;00m \u001b[38;5;28;01mas\u001b[39;00m err:\n",
      "File \u001b[0;32m~/.local/lib/python3.8/site-packages/pandas/_libs/index.pyx:147\u001b[0m, in \u001b[0;36mpandas._libs.index.IndexEngine.get_loc\u001b[0;34m()\u001b[0m\n",
      "File \u001b[0;32m~/.local/lib/python3.8/site-packages/pandas/_libs/index.pyx:176\u001b[0m, in \u001b[0;36mpandas._libs.index.IndexEngine.get_loc\u001b[0;34m()\u001b[0m\n",
      "File \u001b[0;32mpandas/_libs/hashtable_class_helper.pxi:1698\u001b[0m, in \u001b[0;36mpandas._libs.hashtable.Float64HashTable.get_item\u001b[0;34m()\u001b[0m\n",
      "File \u001b[0;32mpandas/_libs/hashtable_class_helper.pxi:1722\u001b[0m, in \u001b[0;36mpandas._libs.hashtable.Float64HashTable.get_item\u001b[0;34m()\u001b[0m\n",
      "\u001b[0;31mKeyError\u001b[0m: 97.0",
      "\nThe above exception was the direct cause of the following exception:\n",
      "\u001b[0;31mKeyError\u001b[0m                                  Traceback (most recent call last)",
      "File \u001b[0;32m~/.local/lib/python3.8/site-packages/xarray/core/indexes.py:477\u001b[0m, in \u001b[0;36mPandasIndex.sel\u001b[0;34m(self, labels, method, tolerance)\u001b[0m\n\u001b[1;32m    476\u001b[0m \u001b[38;5;28;01mtry\u001b[39;00m:\n\u001b[0;32m--> 477\u001b[0m     indexer \u001b[38;5;241m=\u001b[39m \u001b[38;5;28;43mself\u001b[39;49m\u001b[38;5;241;43m.\u001b[39;49m\u001b[43mindex\u001b[49m\u001b[38;5;241;43m.\u001b[39;49m\u001b[43mget_loc\u001b[49m\u001b[43m(\u001b[49m\u001b[43mlabel_value\u001b[49m\u001b[43m)\u001b[49m\n\u001b[1;32m    478\u001b[0m \u001b[38;5;28;01mexcept\u001b[39;00m \u001b[38;5;167;01mKeyError\u001b[39;00m \u001b[38;5;28;01mas\u001b[39;00m e:\n",
      "File \u001b[0;32m~/.local/lib/python3.8/site-packages/pandas/core/indexes/base.py:3655\u001b[0m, in \u001b[0;36mIndex.get_loc\u001b[0;34m(self, key)\u001b[0m\n\u001b[1;32m   3654\u001b[0m \u001b[38;5;28;01mexcept\u001b[39;00m \u001b[38;5;167;01mKeyError\u001b[39;00m \u001b[38;5;28;01mas\u001b[39;00m err:\n\u001b[0;32m-> 3655\u001b[0m     \u001b[38;5;28;01mraise\u001b[39;00m \u001b[38;5;167;01mKeyError\u001b[39;00m(key) \u001b[38;5;28;01mfrom\u001b[39;00m \u001b[38;5;21;01merr\u001b[39;00m\n\u001b[1;32m   3656\u001b[0m \u001b[38;5;28;01mexcept\u001b[39;00m \u001b[38;5;167;01mTypeError\u001b[39;00m:\n\u001b[1;32m   3657\u001b[0m     \u001b[38;5;66;03m# If we have a listlike key, _check_indexing_error will raise\u001b[39;00m\n\u001b[1;32m   3658\u001b[0m     \u001b[38;5;66;03m#  InvalidIndexError. Otherwise we fall through and re-raise\u001b[39;00m\n\u001b[1;32m   3659\u001b[0m     \u001b[38;5;66;03m#  the TypeError.\u001b[39;00m\n",
      "\u001b[0;31mKeyError\u001b[0m: 97.0",
      "\nThe above exception was the direct cause of the following exception:\n",
      "\u001b[0;31mKeyError\u001b[0m                                  Traceback (most recent call last)",
      "Cell \u001b[0;32mIn[224], line 1\u001b[0m\n\u001b[0;32m----> 1\u001b[0m \u001b[43mexample2\u001b[49m\u001b[38;5;241;43m.\u001b[39;49m\u001b[43msel\u001b[49m\u001b[43m(\u001b[49m\u001b[43mdim1\u001b[49m\u001b[43m \u001b[49m\u001b[38;5;241;43m=\u001b[39;49m\u001b[43m \u001b[49m\u001b[38;5;241;43m97\u001b[39;49m\u001b[43m)\u001b[49m\n",
      "File \u001b[0;32m~/.local/lib/python3.8/site-packages/xarray/core/dataarray.py:1536\u001b[0m, in \u001b[0;36mDataArray.sel\u001b[0;34m(self, indexers, method, tolerance, drop, **indexers_kwargs)\u001b[0m\n\u001b[1;32m   1426\u001b[0m \u001b[38;5;28;01mdef\u001b[39;00m \u001b[38;5;21msel\u001b[39m(\n\u001b[1;32m   1427\u001b[0m     \u001b[38;5;28mself\u001b[39m: T_DataArray,\n\u001b[1;32m   1428\u001b[0m     indexers: Mapping[Any, Any] \u001b[38;5;241m|\u001b[39m \u001b[38;5;28;01mNone\u001b[39;00m \u001b[38;5;241m=\u001b[39m \u001b[38;5;28;01mNone\u001b[39;00m,\n\u001b[0;32m   (...)\u001b[0m\n\u001b[1;32m   1432\u001b[0m     \u001b[38;5;241m*\u001b[39m\u001b[38;5;241m*\u001b[39mindexers_kwargs: Any,\n\u001b[1;32m   1433\u001b[0m ) \u001b[38;5;241m-\u001b[39m\u001b[38;5;241m>\u001b[39m T_DataArray:\n\u001b[1;32m   1434\u001b[0m \u001b[38;5;250m    \u001b[39m\u001b[38;5;124;03m\"\"\"Return a new DataArray whose data is given by selecting index\u001b[39;00m\n\u001b[1;32m   1435\u001b[0m \u001b[38;5;124;03m    labels along the specified dimension(s).\u001b[39;00m\n\u001b[1;32m   1436\u001b[0m \n\u001b[0;32m   (...)\u001b[0m\n\u001b[1;32m   1534\u001b[0m \u001b[38;5;124;03m    Dimensions without coordinates: points\u001b[39;00m\n\u001b[1;32m   1535\u001b[0m \u001b[38;5;124;03m    \"\"\"\u001b[39;00m\n\u001b[0;32m-> 1536\u001b[0m     ds \u001b[38;5;241m=\u001b[39m \u001b[38;5;28;43mself\u001b[39;49m\u001b[38;5;241;43m.\u001b[39;49m\u001b[43m_to_temp_dataset\u001b[49m\u001b[43m(\u001b[49m\u001b[43m)\u001b[49m\u001b[38;5;241;43m.\u001b[39;49m\u001b[43msel\u001b[49m\u001b[43m(\u001b[49m\n\u001b[1;32m   1537\u001b[0m \u001b[43m        \u001b[49m\u001b[43mindexers\u001b[49m\u001b[38;5;241;43m=\u001b[39;49m\u001b[43mindexers\u001b[49m\u001b[43m,\u001b[49m\n\u001b[1;32m   1538\u001b[0m \u001b[43m        \u001b[49m\u001b[43mdrop\u001b[49m\u001b[38;5;241;43m=\u001b[39;49m\u001b[43mdrop\u001b[49m\u001b[43m,\u001b[49m\n\u001b[1;32m   1539\u001b[0m \u001b[43m        \u001b[49m\u001b[43mmethod\u001b[49m\u001b[38;5;241;43m=\u001b[39;49m\u001b[43mmethod\u001b[49m\u001b[43m,\u001b[49m\n\u001b[1;32m   1540\u001b[0m \u001b[43m        \u001b[49m\u001b[43mtolerance\u001b[49m\u001b[38;5;241;43m=\u001b[39;49m\u001b[43mtolerance\u001b[49m\u001b[43m,\u001b[49m\n\u001b[1;32m   1541\u001b[0m \u001b[43m        \u001b[49m\u001b[38;5;241;43m*\u001b[39;49m\u001b[38;5;241;43m*\u001b[39;49m\u001b[43mindexers_kwargs\u001b[49m\u001b[43m,\u001b[49m\n\u001b[1;32m   1542\u001b[0m \u001b[43m    \u001b[49m\u001b[43m)\u001b[49m\n\u001b[1;32m   1543\u001b[0m     \u001b[38;5;28;01mreturn\u001b[39;00m \u001b[38;5;28mself\u001b[39m\u001b[38;5;241m.\u001b[39m_from_temp_dataset(ds)\n",
      "File \u001b[0;32m~/.local/lib/python3.8/site-packages/xarray/core/dataset.py:2573\u001b[0m, in \u001b[0;36mDataset.sel\u001b[0;34m(self, indexers, method, tolerance, drop, **indexers_kwargs)\u001b[0m\n\u001b[1;32m   2512\u001b[0m \u001b[38;5;250m\u001b[39m\u001b[38;5;124;03m\"\"\"Returns a new dataset with each array indexed by tick labels\u001b[39;00m\n\u001b[1;32m   2513\u001b[0m \u001b[38;5;124;03malong the specified dimension(s).\u001b[39;00m\n\u001b[1;32m   2514\u001b[0m \n\u001b[0;32m   (...)\u001b[0m\n\u001b[1;32m   2570\u001b[0m \u001b[38;5;124;03mDataArray.sel\u001b[39;00m\n\u001b[1;32m   2571\u001b[0m \u001b[38;5;124;03m\"\"\"\u001b[39;00m\n\u001b[1;32m   2572\u001b[0m indexers \u001b[38;5;241m=\u001b[39m either_dict_or_kwargs(indexers, indexers_kwargs, \u001b[38;5;124m\"\u001b[39m\u001b[38;5;124msel\u001b[39m\u001b[38;5;124m\"\u001b[39m)\n\u001b[0;32m-> 2573\u001b[0m query_results \u001b[38;5;241m=\u001b[39m \u001b[43mmap_index_queries\u001b[49m\u001b[43m(\u001b[49m\n\u001b[1;32m   2574\u001b[0m \u001b[43m    \u001b[49m\u001b[38;5;28;43mself\u001b[39;49m\u001b[43m,\u001b[49m\u001b[43m \u001b[49m\u001b[43mindexers\u001b[49m\u001b[38;5;241;43m=\u001b[39;49m\u001b[43mindexers\u001b[49m\u001b[43m,\u001b[49m\u001b[43m \u001b[49m\u001b[43mmethod\u001b[49m\u001b[38;5;241;43m=\u001b[39;49m\u001b[43mmethod\u001b[49m\u001b[43m,\u001b[49m\u001b[43m \u001b[49m\u001b[43mtolerance\u001b[49m\u001b[38;5;241;43m=\u001b[39;49m\u001b[43mtolerance\u001b[49m\n\u001b[1;32m   2575\u001b[0m \u001b[43m\u001b[49m\u001b[43m)\u001b[49m\n\u001b[1;32m   2577\u001b[0m \u001b[38;5;28;01mif\u001b[39;00m drop:\n\u001b[1;32m   2578\u001b[0m     no_scalar_variables \u001b[38;5;241m=\u001b[39m {}\n",
      "File \u001b[0;32m~/.local/lib/python3.8/site-packages/xarray/core/indexing.py:188\u001b[0m, in \u001b[0;36mmap_index_queries\u001b[0;34m(obj, indexers, method, tolerance, **indexers_kwargs)\u001b[0m\n\u001b[1;32m    186\u001b[0m         results\u001b[38;5;241m.\u001b[39mappend(IndexSelResult(labels))\n\u001b[1;32m    187\u001b[0m     \u001b[38;5;28;01melse\u001b[39;00m:\n\u001b[0;32m--> 188\u001b[0m         results\u001b[38;5;241m.\u001b[39mappend(\u001b[43mindex\u001b[49m\u001b[38;5;241;43m.\u001b[39;49m\u001b[43msel\u001b[49m\u001b[43m(\u001b[49m\u001b[43mlabels\u001b[49m\u001b[43m,\u001b[49m\u001b[43m \u001b[49m\u001b[38;5;241;43m*\u001b[39;49m\u001b[38;5;241;43m*\u001b[39;49m\u001b[43moptions\u001b[49m\u001b[43m)\u001b[49m)\n\u001b[1;32m    190\u001b[0m merged \u001b[38;5;241m=\u001b[39m merge_sel_results(results)\n\u001b[1;32m    192\u001b[0m \u001b[38;5;66;03m# drop dimension coordinates found in dimension indexers\u001b[39;00m\n\u001b[1;32m    193\u001b[0m \u001b[38;5;66;03m# (also drop multi-index if any)\u001b[39;00m\n\u001b[1;32m    194\u001b[0m \u001b[38;5;66;03m# (.sel() already ensures alignment)\u001b[39;00m\n",
      "File \u001b[0;32m~/.local/lib/python3.8/site-packages/xarray/core/indexes.py:479\u001b[0m, in \u001b[0;36mPandasIndex.sel\u001b[0;34m(self, labels, method, tolerance)\u001b[0m\n\u001b[1;32m    477\u001b[0m                 indexer \u001b[38;5;241m=\u001b[39m \u001b[38;5;28mself\u001b[39m\u001b[38;5;241m.\u001b[39mindex\u001b[38;5;241m.\u001b[39mget_loc(label_value)\n\u001b[1;32m    478\u001b[0m             \u001b[38;5;28;01mexcept\u001b[39;00m \u001b[38;5;167;01mKeyError\u001b[39;00m \u001b[38;5;28;01mas\u001b[39;00m e:\n\u001b[0;32m--> 479\u001b[0m                 \u001b[38;5;28;01mraise\u001b[39;00m \u001b[38;5;167;01mKeyError\u001b[39;00m(\n\u001b[1;32m    480\u001b[0m                     \u001b[38;5;124mf\u001b[39m\u001b[38;5;124m\"\u001b[39m\u001b[38;5;124mnot all values found in index \u001b[39m\u001b[38;5;132;01m{\u001b[39;00mcoord_name\u001b[38;5;132;01m!r}\u001b[39;00m\u001b[38;5;124m. \u001b[39m\u001b[38;5;124m\"\u001b[39m\n\u001b[1;32m    481\u001b[0m                     \u001b[38;5;124m\"\u001b[39m\u001b[38;5;124mTry setting the `method` keyword argument (example: method=\u001b[39m\u001b[38;5;124m'\u001b[39m\u001b[38;5;124mnearest\u001b[39m\u001b[38;5;124m'\u001b[39m\u001b[38;5;124m).\u001b[39m\u001b[38;5;124m\"\u001b[39m\n\u001b[1;32m    482\u001b[0m                 ) \u001b[38;5;28;01mfrom\u001b[39;00m \u001b[38;5;21;01me\u001b[39;00m\n\u001b[1;32m    484\u001b[0m \u001b[38;5;28;01melif\u001b[39;00m label_array\u001b[38;5;241m.\u001b[39mdtype\u001b[38;5;241m.\u001b[39mkind \u001b[38;5;241m==\u001b[39m \u001b[38;5;124m\"\u001b[39m\u001b[38;5;124mb\u001b[39m\u001b[38;5;124m\"\u001b[39m:\n\u001b[1;32m    485\u001b[0m     indexer \u001b[38;5;241m=\u001b[39m label_array\n",
      "\u001b[0;31mKeyError\u001b[0m: \"not all values found in index 'dim1'. Try setting the `method` keyword argument (example: method='nearest').\""
     ]
    }
   ],
   "source": [
    "example2.sel(dim1 = 97)"
   ]
  },
  {
   "cell_type": "markdown",
   "id": "e0821406",
   "metadata": {
    "slideshow": {
     "slide_type": "slide"
    }
   },
   "source": [
    "## DateTime Indexing:\n",
    "\n",
    "Podes tener una dimension que sus coordenas sean fechas, entonces logicamente deberia andar bien el seleccionar una fecha puntual.. anda bien :D, pero no solo eso sino que dado que esta guardado en formato fecha podes hacer cosas como:\n",
    "| Objetivo                                                            | Código `xarray`                                                             | Tipo             |\n",
    "| ------------------------------------------------------------------- | --------------------------------------------------------------------------- | ---------------- |\n",
    "| Fecha exacta (día y hora)                                           | `ds.sel(time='2013-01-01 06:00')`                                           | Exacta           |\n",
    "| Día completo (todas las horas)                                      | `ds.sel(time='2013-01-01')`                                                 | Exacta           |\n",
    "| Mes completo (todas las fechas de ese mes y año)                    | `ds.sel(time='2014-05')`                                                    | Exacta           |\n",
    "| Año completo                                                        | `ds.sel(time='2013')`                                                       | Exacta           |\n",
    "| Slice entre dos fechas                                              | `ds.sel(time=slice('2013-01-01', '2013-01-10'))`                            | Slice            |\n",
    "| Slice entre dos fechas con hora                                     | `ds.sel(time=slice('2013-01-01 03:00', '2013-01-02 12:00'))`                | Slice            |\n",
    "| Slice de mes a mes                                                  | `ds.sel(time=slice('2013-01', '2013-03'))`                                  | Slice            |\n",
    "| Slice de año a año                                                  | `ds.sel(time=slice('2012', '2014'))`                                        | Slice            |\n",
    "| Todos los valores de un **mes** sin importar año                    | `ds.sel(time=ds.time.dt.month == 7)`                                        | Condicional      |\n",
    "| Todos los valores de un **día del mes** sin importar mes/año        | `ds.sel(time=ds.time.dt.day == 15)`                                         | Condicional      |\n",
    "| Todos los valores de un **año específico**                          | `ds.sel(time=ds.time.dt.year == 2014)`                                      | Condicional      |\n",
    "| Todos los valores de una **hora específica**                        | `ds.sel(time=ds.time.dt.hour == 6)`                                         | Condicional      |\n",
    "| Todos los valores de un **día de la semana (0=lunes)**              | `ds.sel(time=ds.time.dt.dayofweek == 0)`                                    | Condicional      |\n",
    "| Todos los valores de una **fecha específica combinada (mes + día)** | `ds.sel(time=(ds.time.dt.month == 12) & (ds.time.dt.day == 24))`            | Combinada        |\n",
    "| Estación: Verano (dic-ene-feb)                                      | `ds.sel(time=ds.time.dt.month.isin([12, 1, 2]))`                            | Estacional       |\n",
    "| Estación: Otoño (mar-abr-may)                                       | `ds.sel(time=ds.time.dt.month.isin([3, 4, 5]))`                             | Estacional       |\n",
    "| Estación: Invierno (jun-jul-ago)                                    | `ds.sel(time=ds.time.dt.month.isin([6, 7, 8]))`                             | Estacional       |\n",
    "| Estación: Primavera (sep-oct-nov)                                   | `ds.sel(time=ds.time.dt.month.isin([9, 10, 11]))`                           | Estacional       |\n",
    "| Estación combinada con año (ej: invierno 2013)                      | `ds.sel(time=(ds.time.dt.year == 2013) & ds.time.dt.month.isin([6, 7, 8]))` | Estacional + Año |\n",
    "| Días impares                                                        | `ds.sel(time=ds.time.dt.day % 2 == 1)`                                      | Personalizada    |\n",
    "| Último día del mes                                                  | `ds.sel(time=ds.time.dt.is_month_end)`                                      | Especial         |\n",
    "| Primer día del mes                                                  | `ds.sel(time=ds.time.dt.is_month_start)`                                    | Especial         |\n"
   ]
  },
  {
   "cell_type": "markdown",
   "id": "312dc5a5",
   "metadata": {
    "slideshow": {
     "slide_type": "slide"
    }
   },
   "source": [
    "## COMPUTATION\n",
    "Probablemente querramos hacer cosas mas interesantes que preguntar por datos en nuestro xarray, asi que veamos que podemos hacer :D\n",
    "### BASIC\n",
    "Podemos aplicar funciones y hacer cualquier reduccion estandar de numpy en las coordenadas (mean, min, max, sum, etc.)"
   ]
  },
  {
   "cell_type": "code",
   "execution_count": 225,
   "id": "13f55de4",
   "metadata": {},
   "outputs": [
    {
     "data": {
      "text/html": [
       "<pre>&lt;xarray.DataArray (x: 3, y: 4)&gt;\n",
       "array([[0., 0., 0., 0.],\n",
       "       [0., 0., 0., 0.],\n",
       "       [0., 0., 0., 0.]])\n",
       "Coordinates:\n",
       "  * x        (x) int64 0 1 2\n",
       "  * y        (y) int64 0 1 2 3</pre>"
      ],
      "text/plain": [
       "<xarray.DataArray (x: 3, y: 4)>\n",
       "array([[0., 0., 0., 0.],\n",
       "       [0., 0., 0., 0.],\n",
       "       [0., 0., 0., 0.]])\n",
       "Coordinates:\n",
       "  * x        (x) int64 0 1 2\n",
       "  * y        (y) int64 0 1 2 3"
      ]
     },
     "execution_count": 225,
     "metadata": {},
     "output_type": "execute_result"
    }
   ],
   "source": [
    "example = xr.DataArray(\n",
    "    np.zeros((3,4)),\n",
    "    coords = {\n",
    "        \"x\" : np.arange(0,3),\n",
    "        \"y\" : np.arange(0,4)\n",
    "    },\n",
    "    dims = (\"x\",\"y\")\n",
    ")\n",
    "example"
   ]
  },
  {
   "cell_type": "code",
   "execution_count": 226,
   "id": "95bea3f1",
   "metadata": {
    "slideshow": {
     "slide_type": "slide"
    }
   },
   "outputs": [
    {
     "data": {
      "text/html": [
       "<pre>&lt;xarray.DataArray (x: 3, y: 4)&gt;\n",
       "array([[2., 2., 2., 2.],\n",
       "       [2., 2., 2., 2.],\n",
       "       [2., 2., 2., 2.]])\n",
       "Coordinates:\n",
       "  * x        (x) int64 0 1 2\n",
       "  * y        (y) int64 0 1 2 3</pre>"
      ],
      "text/plain": [
       "<xarray.DataArray (x: 3, y: 4)>\n",
       "array([[2., 2., 2., 2.],\n",
       "       [2., 2., 2., 2.],\n",
       "       [2., 2., 2., 2.]])\n",
       "Coordinates:\n",
       "  * x        (x) int64 0 1 2\n",
       "  * y        (y) int64 0 1 2 3"
      ]
     },
     "execution_count": 226,
     "metadata": {},
     "output_type": "execute_result"
    }
   ],
   "source": [
    "def sumar(a,b):\n",
    "    return a+b\n",
    "\n",
    "xr.apply_ufunc(sumar,example,2)"
   ]
  },
  {
   "cell_type": "code",
   "execution_count": 227,
   "id": "fe0dfd35",
   "metadata": {},
   "outputs": [
    {
     "data": {
      "text/html": [
       "<pre>&lt;xarray.DataArray (x: 3, y: 4)&gt;\n",
       "array([[4., 4., 4., 4.],\n",
       "       [4., 4., 4., 4.],\n",
       "       [4., 4., 4., 4.]])\n",
       "Coordinates:\n",
       "  * x        (x) int64 0 1 2\n",
       "  * y        (y) int64 0 1 2 3</pre>"
      ],
      "text/plain": [
       "<xarray.DataArray (x: 3, y: 4)>\n",
       "array([[4., 4., 4., 4.],\n",
       "       [4., 4., 4., 4.],\n",
       "       [4., 4., 4., 4.]])\n",
       "Coordinates:\n",
       "  * x        (x) int64 0 1 2\n",
       "  * y        (y) int64 0 1 2 3"
      ]
     },
     "execution_count": 227,
     "metadata": {},
     "output_type": "execute_result"
    }
   ],
   "source": [
    "from math import *\n",
    "(example + 2) ** 2"
   ]
  },
  {
   "cell_type": "code",
   "execution_count": 228,
   "id": "d5e56688",
   "metadata": {},
   "outputs": [
    {
     "data": {
      "text/html": [
       "<pre>&lt;xarray.DataArray (x: 3, y: 4)&gt;\n",
       "array([[ 0,  1,  2,  3],\n",
       "       [ 8,  9, 10, 11],\n",
       "       [ 0,  5,  6,  7]])\n",
       "Coordinates:\n",
       "  * x        (x) int64 0 1 2\n",
       "  * y        (y) int64 0 1 2 3</pre>"
      ],
      "text/plain": [
       "<xarray.DataArray (x: 3, y: 4)>\n",
       "array([[ 0,  1,  2,  3],\n",
       "       [ 8,  9, 10, 11],\n",
       "       [ 0,  5,  6,  7]])\n",
       "Coordinates:\n",
       "  * x        (x) int64 0 1 2\n",
       "  * y        (y) int64 0 1 2 3"
      ]
     },
     "execution_count": 228,
     "metadata": {},
     "output_type": "execute_result"
    }
   ],
   "source": [
    "arr = np.array([\n",
    "    [0, 1, 2, 3],\n",
    "    [8, 9, 10, 11],\n",
    "    [0, 5, 6, 7]\n",
    "])\n",
    "example.data = arr\n",
    "example"
   ]
  },
  {
   "cell_type": "code",
   "execution_count": 229,
   "id": "c43f2fed",
   "metadata": {},
   "outputs": [
    {
     "data": {
      "text/html": [
       "<pre>&lt;xarray.DataArray (y: 4)&gt;\n",
       "array([2.66666667, 5.        , 6.        , 7.        ])\n",
       "Coordinates:\n",
       "  * y        (y) int64 0 1 2 3</pre>"
      ],
      "text/plain": [
       "<xarray.DataArray (y: 4)>\n",
       "array([2.66666667, 5.        , 6.        , 7.        ])\n",
       "Coordinates:\n",
       "  * y        (y) int64 0 1 2 3"
      ]
     },
     "execution_count": 229,
     "metadata": {},
     "output_type": "execute_result"
    }
   ],
   "source": [
    "example.mean(dim = \"x\")"
   ]
  },
  {
   "cell_type": "code",
   "execution_count": null,
   "id": "e8496b35",
   "metadata": {},
   "outputs": [],
   "source": []
  },
  {
   "cell_type": "code",
   "execution_count": null,
   "id": "eacc578b",
   "metadata": {},
   "outputs": [],
   "source": []
  }
 ],
 "metadata": {
  "celltoolbar": "Slideshow",
  "kernelspec": {
   "display_name": "Python 3 (ipykernel)",
   "language": "python",
   "name": "python3"
  },
  "language_info": {
   "codemirror_mode": {
    "name": "ipython",
    "version": 3
   },
   "file_extension": ".py",
   "mimetype": "text/x-python",
   "name": "python",
   "nbconvert_exporter": "python",
   "pygments_lexer": "ipython3",
   "version": "3.8.10"
  }
 },
 "nbformat": 4,
 "nbformat_minor": 5
}
